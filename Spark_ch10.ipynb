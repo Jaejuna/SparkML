{
  "nbformat": 4,
  "nbformat_minor": 0,
  "metadata": {
    "colab": {
      "provenance": [],
      "authorship_tag": "ABX9TyN8IEs549xx6iyeAHEMpMN6",
      "include_colab_link": true
    },
    "kernelspec": {
      "name": "python3",
      "display_name": "Python 3"
    },
    "language_info": {
      "name": "python"
    }
  },
  "cells": [
    {
      "cell_type": "markdown",
      "metadata": {
        "id": "view-in-github",
        "colab_type": "text"
      },
      "source": [
        "<a href=\"https://colab.research.google.com/github/Jaejuna/SparkML/blob/main/Spark_ch10.ipynb\" target=\"_parent\"><img src=\"https://colab.research.google.com/assets/colab-badge.svg\" alt=\"Open In Colab\"/></a>"
      ]
    },
    {
      "cell_type": "code",
      "execution_count": 5,
      "metadata": {
        "colab": {
          "base_uri": "https://localhost:8080/"
        },
        "id": "xFITOcqqVxAn",
        "outputId": "d5a70c1e-eee7-4069-bf5c-a3f0360d4cf6"
      },
      "outputs": [
        {
          "output_type": "stream",
          "name": "stdout",
          "text": [
            "Looking in indexes: https://pypi.org/simple, https://us-python.pkg.dev/colab-wheels/public/simple/\n",
            "Collecting pyspark\n",
            "  Downloading pyspark-3.3.2.tar.gz (281.4 MB)\n",
            "\u001b[2K     \u001b[90m━━━━━━━━━━━━━━━━━━━━━━━━━━━━━━━━━━━━━━━\u001b[0m \u001b[32m281.4/281.4 MB\u001b[0m \u001b[31m4.4 MB/s\u001b[0m eta \u001b[36m0:00:00\u001b[0m\n",
            "\u001b[?25h  Preparing metadata (setup.py) ... \u001b[?25l\u001b[?25hdone\n",
            "Collecting py4j==0.10.9.5\n",
            "  Downloading py4j-0.10.9.5-py2.py3-none-any.whl (199 kB)\n",
            "\u001b[2K     \u001b[90m━━━━━━━━━━━━━━━━━━━━━━━━━━━━━━━━━━━━━━\u001b[0m \u001b[32m199.7/199.7 KB\u001b[0m \u001b[31m22.3 MB/s\u001b[0m eta \u001b[36m0:00:00\u001b[0m\n",
            "\u001b[?25hBuilding wheels for collected packages: pyspark\n",
            "  Building wheel for pyspark (setup.py) ... \u001b[?25l\u001b[?25hdone\n",
            "  Created wheel for pyspark: filename=pyspark-3.3.2-py2.py3-none-any.whl size=281824028 sha256=078b0581df236ffe47343e71cdef94a0e0409b73732545187d2ab39033342821\n",
            "  Stored in directory: /root/.cache/pip/wheels/6c/e3/9b/0525ce8a69478916513509d43693511463c6468db0de237c86\n",
            "Successfully built pyspark\n",
            "Installing collected packages: py4j, pyspark\n",
            "  Attempting uninstall: py4j\n",
            "    Found existing installation: py4j 0.10.9.7\n",
            "    Uninstalling py4j-0.10.9.7:\n",
            "      Successfully uninstalled py4j-0.10.9.7\n",
            "Successfully installed py4j-0.10.9.5 pyspark-3.3.2\n"
          ]
        }
      ],
      "source": [
        "!pip install pyspark"
      ]
    },
    {
      "cell_type": "code",
      "source": [
        "from google.colab import drive\n",
        "drive.mount('/content/drive')"
      ],
      "metadata": {
        "colab": {
          "base_uri": "https://localhost:8080/"
        },
        "id": "3IRGvqS_V1Jv",
        "outputId": "0428ff2e-0702-463f-a63e-199c656cb140"
      },
      "execution_count": 2,
      "outputs": [
        {
          "output_type": "stream",
          "name": "stdout",
          "text": [
            "Mounted at /content/drive\n"
          ]
        }
      ]
    },
    {
      "cell_type": "code",
      "source": [
        "import pyspark\n",
        "from pyspark.sql import SparkSession\n",
        "\n",
        "#Create SparkSession\n",
        "spark = SparkSession.builder.master(\"local[1]\").appName(\"SparkByExamples.com\").getOrCreate()\n",
        "\n",
        "filePath = \"\"\"/content/drive/MyDrive/BOAZ/엔지/Spark Study/databricks-datasets/learning-spark-v2/sf-airbnb/sf-airbnb-clean.parquet/\"\"\"\n",
        "airbnbDF = spark.read.parquet(filePath)\n",
        "airbnbDF.select(\"neighbourhood_cleansed\", \"room_type\", \"bedrooms\", \"bathrooms\", \"number_of_reviews\", \"price\").show(5)"
      ],
      "metadata": {
        "colab": {
          "base_uri": "https://localhost:8080/"
        },
        "id": "GAmrTZ_4W4XI",
        "outputId": "0ed8ffdf-61a1-4cde-a478-ea76afc9541f"
      },
      "execution_count": 16,
      "outputs": [
        {
          "output_type": "stream",
          "name": "stdout",
          "text": [
            "+----------------------+---------------+--------+---------+-----------------+-----+\n",
            "|neighbourhood_cleansed|      room_type|bedrooms|bathrooms|number_of_reviews|price|\n",
            "+----------------------+---------------+--------+---------+-----------------+-----+\n",
            "|      Western Addition|Entire home/apt|     1.0|      1.0|            180.0|170.0|\n",
            "|        Bernal Heights|Entire home/apt|     2.0|      1.0|            111.0|235.0|\n",
            "|        Haight Ashbury|   Private room|     1.0|      4.0|             17.0| 65.0|\n",
            "|        Haight Ashbury|   Private room|     1.0|      4.0|              8.0| 65.0|\n",
            "|      Western Addition|Entire home/apt|     2.0|      1.5|             27.0|785.0|\n",
            "+----------------------+---------------+--------+---------+-----------------+-----+\n",
            "only showing top 5 rows\n",
            "\n"
          ]
        }
      ]
    },
    {
      "cell_type": "code",
      "source": [
        "trainDF, testDF = airbnbDF.randomSplit([.8, .2], seed=32)\n",
        "print(f\"\"\"There are {trainDF.count()} rows in the training set, and {testDF.count()} in the test set\"\"\")"
      ],
      "metadata": {
        "colab": {
          "base_uri": "https://localhost:8080/"
        },
        "id": "Z-2Nhdfwdtx9",
        "outputId": "d178a82d-e357-4971-d87a-e8a66f38e4b6"
      },
      "execution_count": 15,
      "outputs": [
        {
          "output_type": "stream",
          "name": "stdout",
          "text": [
            "There are 5752 rows in the training set, and 1394 in the test set\n"
          ]
        }
      ]
    },
    {
      "cell_type": "code",
      "source": [
        "from pyspark.ml.feature import VectorAssembler\n",
        "\n",
        "vecAssembler = VectorAssembler(inputCols=[\"bedrooms\"], outputCol=\"features\")\n",
        "vecTrainDF = vecAssembler.transform(trainDF)\n",
        "vecTrainDF.select(\"bedrooms\", \"features\", \"price\").show(10)"
      ],
      "metadata": {
        "colab": {
          "base_uri": "https://localhost:8080/"
        },
        "id": "zgfNNI4hdODf",
        "outputId": "96d7a612-1833-4404-8a12-778bdcb44383"
      },
      "execution_count": 20,
      "outputs": [
        {
          "output_type": "stream",
          "name": "stdout",
          "text": [
            "+--------+--------+-----+\n",
            "|bedrooms|features|price|\n",
            "+--------+--------+-----+\n",
            "|     1.0|   [1.0]|200.0|\n",
            "|     1.0|   [1.0]|130.0|\n",
            "|     1.0|   [1.0]| 85.0|\n",
            "|     1.0|   [1.0]| 95.0|\n",
            "|     3.0|   [3.0]|250.0|\n",
            "|     1.0|   [1.0]| 45.0|\n",
            "|     1.0|   [1.0]|115.0|\n",
            "|     1.0|   [1.0]| 70.0|\n",
            "|     1.0|   [1.0]|105.0|\n",
            "|     1.0|   [1.0]| 86.0|\n",
            "+--------+--------+-----+\n",
            "only showing top 10 rows\n",
            "\n"
          ]
        }
      ]
    },
    {
      "cell_type": "code",
      "source": [
        "from pyspark.ml.regression import LinearRegression\n",
        "\n",
        "lr = LinearRegression(featuresCol='features', labelCol='price')\n",
        "lrModel = lr.fit(vecTrainDF)"
      ],
      "metadata": {
        "id": "lAP_r9d3eh0W"
      },
      "execution_count": 21,
      "outputs": []
    },
    {
      "cell_type": "code",
      "source": [
        "m = round(lrModel.coefficients[0], 2)\n",
        "b = round(lrModel.intercept, 2)\n",
        "print(f\"\"\"The formula for the linear regression line is price = {m}*bedrooms + {b}\"\"\")"
      ],
      "metadata": {
        "colab": {
          "base_uri": "https://localhost:8080/"
        },
        "id": "_Nyi9iILip9Z",
        "outputId": "6c23c548-131f-4db6-ed1e-fb5b0463286c"
      },
      "execution_count": 22,
      "outputs": [
        {
          "output_type": "stream",
          "name": "stdout",
          "text": [
            "The formula for the linear regression line is price = 121.14*bedrooms + 52.02\n"
          ]
        }
      ]
    },
    {
      "cell_type": "code",
      "source": [
        "from pyspark.ml import Pipeline\n",
        "pipeline = Pipeline(stages=[vecAssembler, lr])\n",
        "pipelineModel = pipeline.fit(trainDF)"
      ],
      "metadata": {
        "id": "TMmpvyo0i-t_"
      },
      "execution_count": 23,
      "outputs": []
    },
    {
      "cell_type": "code",
      "source": [
        "predDF = pipelineModel.transform(testDF)\n",
        "predDF.select(\"bedrooms\", \"features\", \"price\", \"prediction\").show(10)"
      ],
      "metadata": {
        "colab": {
          "base_uri": "https://localhost:8080/"
        },
        "id": "C3RKtZ5Zj_Ix",
        "outputId": "12c12d8f-8316-43ac-89c9-ef4385129288"
      },
      "execution_count": 24,
      "outputs": [
        {
          "output_type": "stream",
          "name": "stdout",
          "text": [
            "+--------+--------+-----+------------------+\n",
            "|bedrooms|features|price|        prediction|\n",
            "+--------+--------+-----+------------------+\n",
            "|     1.0|   [1.0]|250.0| 173.1567995347388|\n",
            "|     1.0|   [1.0]|250.0| 173.1567995347388|\n",
            "|     1.0|   [1.0]|100.0| 173.1567995347388|\n",
            "|     1.0|   [1.0]|159.0| 173.1567995347388|\n",
            "|     2.0|   [2.0]|199.0|294.29848575905436|\n",
            "|     1.0|   [1.0]|100.0| 173.1567995347388|\n",
            "|     1.0|   [1.0]|190.0| 173.1567995347388|\n",
            "|     1.0|   [1.0]| 95.0| 173.1567995347388|\n",
            "|     3.0|   [3.0]|200.0|415.44017198336985|\n",
            "|     1.0|   [1.0]| 64.0| 173.1567995347388|\n",
            "+--------+--------+-----+------------------+\n",
            "only showing top 10 rows\n",
            "\n"
          ]
        }
      ]
    },
    {
      "cell_type": "code",
      "source": [
        "from pyspark.ml.evaluation import RegressionEvaluator\n",
        "regressionEvaluator = RegressionEvaluator(\n",
        "    predictionCol=\"prediction\",\n",
        "    labelCol=\"price\",\n",
        "    metricName='rmse'\n",
        ")\n",
        "rmse = regressionEvaluator.evaluate(predDF)\n",
        "print(f\"RMSE is {rmse:.1f}\")"
      ],
      "metadata": {
        "colab": {
          "base_uri": "https://localhost:8080/"
        },
        "id": "_V3VdIQtkMKa",
        "outputId": "033b1b76-46fe-42b3-b5d5-cf159469c372"
      },
      "execution_count": 25,
      "outputs": [
        {
          "output_type": "stream",
          "name": "stdout",
          "text": [
            "RMSE is 164.1\n"
          ]
        }
      ]
    },
    {
      "cell_type": "code",
      "source": [
        "pipelinePath = \"/tmp/lr-pipeline-model\"\n",
        "pipelineModel.write().overwrite().save(pipelinePath)"
      ],
      "metadata": {
        "id": "EX4j2tlIoGnv"
      },
      "execution_count": null,
      "outputs": []
    },
    {
      "cell_type": "code",
      "source": [
        "# 저장된 모델을 로드할 대 로드할 모델 유형을 다시 지정해야 한다.\n",
        "from pyspark.ml import PipelineModel\n",
        "savedPipelineModel = PipelineModel.load(pipelinePath)"
      ],
      "metadata": {
        "id": "Dy3iuk00oHCC"
      },
      "execution_count": null,
      "outputs": []
    },
    {
      "cell_type": "code",
      "source": [
        "from pyspark.ml.regression import DecisionTreeRegressor\n",
        "\n",
        "dt = DecisionTreeRegressor(labelCol='price')\n",
        "\n",
        "numericCols = [field for (field, dataType) in trainDF.dtypes \n",
        "               if ((dataType == \"double\") & (field != \"price\"))]\n",
        "\n",
        "assemblerInputs = indexOutputCols + numericCols\n",
        "vecAssembler = VectorAssembler(inputCols=assemblerInputs, outputCol=\"features\")\n",
        "\n",
        "stages = [StringIndexer, vecAssembler, dt]\n",
        "pipeline = Pipeline(stages=stages)\n",
        "dt.setMaxBins(40)\n",
        "pipelineModel = pipeline.fit(trainDF)"
      ],
      "metadata": {
        "id": "df3PSUTBsPbQ"
      },
      "execution_count": null,
      "outputs": []
    },
    {
      "cell_type": "code",
      "source": [
        "import pandas as pd\n",
        "\n",
        "featureImp = pd.DataFrame(list(zip(vecAssember.getInputCols(), dtModel.featureImportances)),colums=[\"feature\", \"importance\"])\n",
        "featureImp.sort_values(by='importance', ascending=False)"
      ],
      "metadata": {
        "id": "7YY0ssS9uGBs"
      },
      "execution_count": null,
      "outputs": []
    },
    {
      "cell_type": "code",
      "source": [
        "pipeline = Pipline(stages = [stringIndexer, vecAssembler, rf])"
      ],
      "metadata": {
        "id": "LE4X8K3Au2XK"
      },
      "execution_count": null,
      "outputs": []
    },
    {
      "cell_type": "code",
      "source": [
        "from pyspark.ml.tuning import ParamGridBuilder\n",
        "paramGrid = (ParamGridBuilder().addGrid(rf.maxDepth, [2, 4, 6]).addGrid(rf.numTrees, [10, 100]).build())"
      ],
      "metadata": {
        "id": "DogBsD7pu-Iu"
      },
      "execution_count": null,
      "outputs": []
    },
    {
      "cell_type": "code",
      "source": [
        "evaluator = RegressionEvaluator(labelCol=\"price\", predictionCol=\"prediction\", metricName=\"rmse\")"
      ],
      "metadata": {
        "id": "qxOlmbUBvUM9"
      },
      "execution_count": null,
      "outputs": []
    },
    {
      "cell_type": "code",
      "source": [
        "from pyspark.ml.tuning import CrossValidator\n",
        "\n",
        "cv = CrossValidator(estimator=pipeline, evaluator=evaluator, estimatorParamMaps=paramGrid, numFolds=3, seed=32)\n",
        "cvModel = cv.fit(trainDF)"
      ],
      "metadata": {
        "id": "IsCMnKlHveNN"
      },
      "execution_count": null,
      "outputs": []
    },
    {
      "cell_type": "code",
      "source": [
        "list(zip(cvModel.getEstimatorParamMaps(), cvModel.avgMetrics))"
      ],
      "metadata": {
        "id": "5S9mX-jvwEEM"
      },
      "execution_count": null,
      "outputs": []
    },
    {
      "cell_type": "code",
      "source": [
        "cvModel = cv.setParallelism(4).fit(trainDF)"
      ],
      "metadata": {
        "id": "se_W62vzwmMs"
      },
      "execution_count": null,
      "outputs": []
    },
    {
      "cell_type": "code",
      "source": [
        "cv = CrossValidator(estimator=pipeline, evaluator=evaluator, estimatorParamMaps=paramGrid, numFolds=3, parallelism=4, seed=32)\n",
        "pipeline = Pipeline(stages=[stringIndexer, vecAssembler, cv])\n",
        "pipelineModel = pipeline.fit(trainDF)"
      ],
      "metadata": {
        "id": "Zylaqvt5w944"
      },
      "execution_count": null,
      "outputs": []
    }
  ]
}