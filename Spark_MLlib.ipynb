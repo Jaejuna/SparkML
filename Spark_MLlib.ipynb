{
  "nbformat": 4,
  "nbformat_minor": 0,
  "metadata": {
    "colab": {
      "provenance": [],
      "authorship_tag": "ABX9TyOKgWmTuY/03JngBfJGotT2",
      "include_colab_link": true
    },
    "kernelspec": {
      "name": "python3",
      "display_name": "Python 3"
    },
    "language_info": {
      "name": "python"
    }
  },
  "cells": [
    {
      "cell_type": "markdown",
      "metadata": {
        "id": "view-in-github",
        "colab_type": "text"
      },
      "source": [
        "<a href=\"https://colab.research.google.com/github/Jaejuna/SparkML/blob/main/Spark_MLlib.ipynb\" target=\"_parent\"><img src=\"https://colab.research.google.com/assets/colab-badge.svg\" alt=\"Open In Colab\"/></a>"
      ]
    },
    {
      "cell_type": "code",
      "execution_count": 1,
      "metadata": {
        "colab": {
          "base_uri": "https://localhost:8080/"
        },
        "id": "xFITOcqqVxAn",
        "outputId": "d71e0b84-1484-4d87-ff69-8c8317600d4a"
      },
      "outputs": [
        {
          "output_type": "stream",
          "name": "stdout",
          "text": [
            "Looking in indexes: https://pypi.org/simple, https://us-python.pkg.dev/colab-wheels/public/simple/\n",
            "Collecting pyspark\n",
            "  Downloading pyspark-3.3.2.tar.gz (281.4 MB)\n",
            "\u001b[2K     \u001b[90m━━━━━━━━━━━━━━━━━━━━━━━━━━━━━━━━━━━━━━━\u001b[0m \u001b[32m281.4/281.4 MB\u001b[0m \u001b[31m5.1 MB/s\u001b[0m eta \u001b[36m0:00:00\u001b[0m\n",
            "\u001b[?25h  Preparing metadata (setup.py) ... \u001b[?25l\u001b[?25hdone\n",
            "Collecting py4j==0.10.9.5\n",
            "  Downloading py4j-0.10.9.5-py2.py3-none-any.whl (199 kB)\n",
            "\u001b[2K     \u001b[90m━━━━━━━━━━━━━━━━━━━━━━━━━━━━━━━━━━━━━━━\u001b[0m \u001b[32m199.7/199.7 kB\u001b[0m \u001b[31m7.9 MB/s\u001b[0m eta \u001b[36m0:00:00\u001b[0m\n",
            "\u001b[?25hBuilding wheels for collected packages: pyspark\n",
            "  Building wheel for pyspark (setup.py) ... \u001b[?25l\u001b[?25hdone\n",
            "  Created wheel for pyspark: filename=pyspark-3.3.2-py2.py3-none-any.whl size=281824028 sha256=6c5d1f19ae7569c03adadca0cfd7eb11a691a96012d7736e11ca01259e89aa01\n",
            "  Stored in directory: /root/.cache/pip/wheels/6c/e3/9b/0525ce8a69478916513509d43693511463c6468db0de237c86\n",
            "Successfully built pyspark\n",
            "Installing collected packages: py4j, pyspark\n",
            "  Attempting uninstall: py4j\n",
            "    Found existing installation: py4j 0.10.9.7\n",
            "    Uninstalling py4j-0.10.9.7:\n",
            "      Successfully uninstalled py4j-0.10.9.7\n",
            "Successfully installed py4j-0.10.9.5 pyspark-3.3.2\n"
          ]
        }
      ],
      "source": [
        "!pip install pyspark"
      ]
    },
    {
      "cell_type": "code",
      "source": [
        "# 데이터 다운\n",
        "!gdown https://drive.google.com/uc?id=1qYh2aGOBZfUF9547M0pxAe17JhR7yLxm\n",
        "!unzip sf-airbnb-clean.parquet.zip"
      ],
      "metadata": {
        "colab": {
          "base_uri": "https://localhost:8080/"
        },
        "id": "3IRGvqS_V1Jv",
        "outputId": "2b958bcb-41cd-47ea-d4d0-ce336a939151"
      },
      "execution_count": 2,
      "outputs": [
        {
          "output_type": "stream",
          "name": "stdout",
          "text": [
            "Downloading...\n",
            "From: https://drive.google.com/uc?id=1qYh2aGOBZfUF9547M0pxAe17JhR7yLxm\n",
            "To: /content/sf-airbnb-clean.parquet.zip\n",
            "\r  0% 0.00/142k [00:00<?, ?B/s]\r100% 142k/142k [00:00<00:00, 63.6MB/s]\n",
            "Archive:  sf-airbnb-clean.parquet.zip\n",
            "   creating: sf-airbnb-clean.parquet/\n",
            "  inflating: __MACOSX/._sf-airbnb-clean.parquet  \n",
            "  inflating: sf-airbnb-clean.parquet/_committed_4320459746949313749  \n",
            "  inflating: __MACOSX/sf-airbnb-clean.parquet/.__committed_4320459746949313749  \n",
            " extracting: sf-airbnb-clean.parquet/_started_4320459746949313749  \n",
            "  inflating: __MACOSX/sf-airbnb-clean.parquet/.__started_4320459746949313749  \n",
            "  inflating: sf-airbnb-clean.parquet/part-00000-tid-4320459746949313749-5c3d407c-c844-4016-97ad-2edec446aa62-6688-1-c000.snappy.parquet  \n",
            "  inflating: __MACOSX/sf-airbnb-clean.parquet/._part-00000-tid-4320459746949313749-5c3d407c-c844-4016-97ad-2edec446aa62-6688-1-c000.snappy.parquet  \n",
            " extracting: sf-airbnb-clean.parquet/_SUCCESS  \n",
            "  inflating: __MACOSX/sf-airbnb-clean.parquet/.__SUCCESS  \n"
          ]
        }
      ]
    },
    {
      "cell_type": "code",
      "source": [
        "# 데이터 수집 및 탐색색\n",
        "import pyspark\n",
        "from pyspark.sql import SparkSession\n",
        "\n",
        "#Create SparkSession\n",
        "spark = SparkSession.builder.master(\"local[1]\").appName(\"SparkByExamples.com\").getOrCreate()\n",
        "\n",
        "filePath = \"./sf-airbnb-clean.parquet\"\n",
        "airbnbDF = spark.read.parquet(filePath)\n",
        "airbnbDF.select(\"neighbourhood_cleansed\", \"room_type\", \"bedrooms\", \"bathrooms\", \"number_of_reviews\", \"price\").show(5)"
      ],
      "metadata": {
        "colab": {
          "base_uri": "https://localhost:8080/"
        },
        "id": "GAmrTZ_4W4XI",
        "outputId": "ac459e0b-659e-4173-a776-a1eab0a1223b"
      },
      "execution_count": 3,
      "outputs": [
        {
          "output_type": "stream",
          "name": "stdout",
          "text": [
            "+----------------------+---------------+--------+---------+-----------------+-----+\n",
            "|neighbourhood_cleansed|      room_type|bedrooms|bathrooms|number_of_reviews|price|\n",
            "+----------------------+---------------+--------+---------+-----------------+-----+\n",
            "|      Western Addition|Entire home/apt|     1.0|      1.0|            180.0|170.0|\n",
            "|        Bernal Heights|Entire home/apt|     2.0|      1.0|            111.0|235.0|\n",
            "|        Haight Ashbury|   Private room|     1.0|      4.0|             17.0| 65.0|\n",
            "|        Haight Ashbury|   Private room|     1.0|      4.0|              8.0| 65.0|\n",
            "|      Western Addition|Entire home/apt|     2.0|      1.5|             27.0|785.0|\n",
            "+----------------------+---------------+--------+---------+-----------------+-----+\n",
            "only showing top 5 rows\n",
            "\n"
          ]
        }
      ]
    },
    {
      "cell_type": "code",
      "source": [
        "# 훈련 데이터셋과 테스트 데이터셋 분리리\n",
        "trainDF, testDF = airbnbDF.randomSplit([.8, .2], seed=32)\n",
        "print(f\"\"\"There are {trainDF.count()} rows in the training set, and {testDF.count()} in the test set\"\"\")"
      ],
      "metadata": {
        "colab": {
          "base_uri": "https://localhost:8080/"
        },
        "id": "Z-2Nhdfwdtx9",
        "outputId": "431cb836-3de9-4978-9619-3284cc2e8d6c"
      },
      "execution_count": 4,
      "outputs": [
        {
          "output_type": "stream",
          "name": "stdout",
          "text": [
            "There are 5752 rows in the training set, and 1394 in the test set\n"
          ]
        }
      ]
    },
    {
      "cell_type": "code",
      "source": [
        "# 변환기 transformer 사용하여 학습할 기능들 준비비\n",
        "from pyspark.ml.feature import VectorAssembler\n",
        "\n",
        "vecAssembler = VectorAssembler(inputCols=[\"bedrooms\"], outputCol=\"features\")\n",
        "vecTrainDF = vecAssembler.transform(trainDF)\n",
        "vecTrainDF.select(\"bedrooms\", \"features\", \"price\").show(10)"
      ],
      "metadata": {
        "colab": {
          "base_uri": "https://localhost:8080/"
        },
        "id": "zgfNNI4hdODf",
        "outputId": "def5f7e3-5e8e-4299-ae99-b4b2fff0500c"
      },
      "execution_count": 5,
      "outputs": [
        {
          "output_type": "stream",
          "name": "stdout",
          "text": [
            "+--------+--------+-----+\n",
            "|bedrooms|features|price|\n",
            "+--------+--------+-----+\n",
            "|     1.0|   [1.0]|200.0|\n",
            "|     1.0|   [1.0]|130.0|\n",
            "|     1.0|   [1.0]| 85.0|\n",
            "|     1.0|   [1.0]| 95.0|\n",
            "|     3.0|   [3.0]|250.0|\n",
            "|     1.0|   [1.0]| 45.0|\n",
            "|     1.0|   [1.0]|115.0|\n",
            "|     1.0|   [1.0]| 70.0|\n",
            "|     1.0|   [1.0]|105.0|\n",
            "|     1.0|   [1.0]| 86.0|\n",
            "+--------+--------+-----+\n",
            "only showing top 10 rows\n",
            "\n"
          ]
        }
      ]
    },
    {
      "cell_type": "code",
      "source": [
        "# Linear Regression 모델 생성 및 학습습\n",
        "from pyspark.ml.regression import LinearRegression\n",
        "\n",
        "lr = LinearRegression(featuresCol='features', labelCol='price')\n",
        "lrModel = lr.fit(vecTrainDF)"
      ],
      "metadata": {
        "id": "lAP_r9d3eh0W"
      },
      "execution_count": 6,
      "outputs": []
    },
    {
      "cell_type": "code",
      "source": [
        "# 예측 가격값 알아보기기\n",
        "m = round(lrModel.coefficients[0], 2)\n",
        "b = round(lrModel.intercept, 2)\n",
        "print(f\"\"\"The formula for the linear regression line is price = {m}*bedrooms + {b}\"\"\")"
      ],
      "metadata": {
        "colab": {
          "base_uri": "https://localhost:8080/"
        },
        "id": "_Nyi9iILip9Z",
        "outputId": "92563d6f-6f24-481f-83e2-abd422fb1034"
      },
      "execution_count": 7,
      "outputs": [
        {
          "output_type": "stream",
          "name": "stdout",
          "text": [
            "The formula for the linear regression line is price = 121.14*bedrooms + 52.02\n"
          ]
        }
      ]
    },
    {
      "cell_type": "code",
      "source": [
        "# pipeline으로 간편화 해보기 (transformer)\n",
        "from pyspark.ml import Pipeline\n",
        "pipeline = Pipeline(stages=[vecAssembler, lr])\n",
        "pipelineModel = pipeline.fit(trainDF)"
      ],
      "metadata": {
        "id": "TMmpvyo0i-t_"
      },
      "execution_count": 8,
      "outputs": []
    },
    {
      "cell_type": "code",
      "source": [
        "# pipeline으로 간편화 해보기 (estimator)\n",
        "predDF = pipelineModel.transform(testDF)\n",
        "predDF.select(\"bedrooms\", \"features\", \"price\", \"prediction\").show(10)"
      ],
      "metadata": {
        "colab": {
          "base_uri": "https://localhost:8080/"
        },
        "id": "C3RKtZ5Zj_Ix",
        "outputId": "1964a5d3-8665-4680-9cff-71a3b0441921"
      },
      "execution_count": 9,
      "outputs": [
        {
          "output_type": "stream",
          "name": "stdout",
          "text": [
            "+--------+--------+-----+------------------+\n",
            "|bedrooms|features|price|        prediction|\n",
            "+--------+--------+-----+------------------+\n",
            "|     1.0|   [1.0]|250.0| 173.1567995347388|\n",
            "|     1.0|   [1.0]|250.0| 173.1567995347388|\n",
            "|     1.0|   [1.0]|100.0| 173.1567995347388|\n",
            "|     1.0|   [1.0]|159.0| 173.1567995347388|\n",
            "|     2.0|   [2.0]|199.0|294.29848575905436|\n",
            "|     1.0|   [1.0]|100.0| 173.1567995347388|\n",
            "|     1.0|   [1.0]|190.0| 173.1567995347388|\n",
            "|     1.0|   [1.0]| 95.0| 173.1567995347388|\n",
            "|     3.0|   [3.0]|200.0|415.44017198336985|\n",
            "|     1.0|   [1.0]| 64.0| 173.1567995347388|\n",
            "+--------+--------+-----+------------------+\n",
            "only showing top 10 rows\n",
            "\n"
          ]
        }
      ]
    },
    {
      "cell_type": "code",
      "source": [
        "# 범주형 데이터 다루기 : one-hot encoding\n",
        "from pyspark.ml.feature import OneHotEncoder, StringIndexer\n",
        "\n",
        "# 변환할 변수 지정 및 변환할 변수 명 생성\n",
        "categoricalCols = [field for (field, dataType) in trainDF.dtypes if dataType == \"string\"]\n",
        "indexOutputCols = [x + \"Index\" for x in categoricalCols]\n",
        "oheOutputCols = [x + \"OHE\" for x in categoricalCols]\n",
        "\n",
        "stringIndexer = StringIndexer(inputCols=categoricalCols, outputCols=indexOutputCols, handleInvalid = \"skip\")\n",
        "oheEncoder = OneHotEncoder(inputCols=indexOutputCols, outputCols=oheOutputCols)\n",
        "\n",
        "# 연속형 변수 지정\n",
        "numericCols = [field for (field, dataType) in trainDF.dtypes if  ((dataType == \"double\") & (field != \"price\"))]\n",
        "assemblerInputs = oheOutputCols + numericCols\n",
        "vecAssembler = VectorAssembler(inputCols=assemblerInputs, outputCol=\"features\")"
      ],
      "metadata": {
        "id": "6jTN_LIlZYnD"
      },
      "execution_count": 13,
      "outputs": []
    },
    {
      "cell_type": "code",
      "source": [
        "# RFormula 사용하기\n",
        "from pyspark.ml.feature import RFormula\n",
        "\n",
        "rFormula = RFormula(formula = \"price ~ .\", \n",
        "                    featuresCol=\"features\",\n",
        "                    labelCol=\"price\",\n",
        "                    handleInvalid=\"skip\")"
      ],
      "metadata": {
        "id": "a4QoDMILZpXp"
      },
      "execution_count": 14,
      "outputs": []
    },
    {
      "cell_type": "code",
      "source": [
        "# 평가지표 RMSE\n",
        "from pyspark.ml.evaluation import RegressionEvaluator\n",
        "regressionEvaluator = RegressionEvaluator(\n",
        "    predictionCol=\"prediction\",\n",
        "    labelCol=\"price\",\n",
        "    metricName='rmse'\n",
        ")\n",
        "rmse = regressionEvaluator.evaluate(predDF)\n",
        "print(f\"RMSE is {rmse:.1f}\")"
      ],
      "metadata": {
        "colab": {
          "base_uri": "https://localhost:8080/"
        },
        "id": "_V3VdIQtkMKa",
        "outputId": "2e50874a-a474-4c2e-9cb7-4efa915b22e5"
      },
      "execution_count": 16,
      "outputs": [
        {
          "output_type": "stream",
          "name": "stdout",
          "text": [
            "RMSE is 164.1\n"
          ]
        }
      ]
    },
    {
      "cell_type": "code",
      "source": [
        "# 평가지표 R^2 \n",
        "r2 = regressionEvaluator.setMetricName(\"r2\").evaluate(predDF)\n",
        "print(f\"R2 is {r2}\")"
      ],
      "metadata": {
        "colab": {
          "base_uri": "https://localhost:8080/"
        },
        "id": "O818u13ZMpTx",
        "outputId": "64fe61ff-b47f-4345-e939-d94a9290a3db"
      },
      "execution_count": 17,
      "outputs": [
        {
          "output_type": "stream",
          "name": "stdout",
          "text": [
            "R2 is 0.27548956205105046\n"
          ]
        }
      ]
    },
    {
      "cell_type": "code",
      "source": [
        "from pyspark.ml.regression import DecisionTreeRegressor\n",
        "\n",
        "# 모델 객체 생성\n",
        "dt = DecisionTreeRegressor(labelCol=\"price\")\n",
        "\n",
        "# 숫자 열만 필터링\n",
        "numericCols = [field for (field, dataType) in trainDF.dtypes\n",
        "               if ((dataType == \"double\") & (field != \"price\"))]\n",
        "\n",
        "# 위에서 정의한 StingIndexer의 출력과 숫자 열 결합\n",
        "assemblerInputs = indexOutputCols + numericCols\n",
        "vecAssembler = VectorAssembler(inputCols = assemblerInputs, outputCol=\"features\")\n",
        "\n",
        "# 단계를 파이프라인으로 결합\n",
        "stages = [stringIndexer, vecAssembler, dt]\n",
        "pipeline = Pipeline(stages = stages)\n",
        "\n",
        "# 및 훈련 -> error\n",
        "dt.setMaxBins(40)\n",
        "pipelineModel = pipeline.fit(trainDF)"
      ],
      "metadata": {
        "id": "df3PSUTBsPbQ"
      },
      "execution_count": 19,
      "outputs": []
    },
    {
      "cell_type": "code",
      "source": [
        "# 규칙 프린트\n",
        "dtModel = pipelineModel.stages[-1]\n",
        "print(dtModel.toDebugString)"
      ],
      "metadata": {
        "colab": {
          "base_uri": "https://localhost:8080/"
        },
        "id": "8yy7w7ABZ6s9",
        "outputId": "7fa04e40-b5b4-41af-a54b-344390108767"
      },
      "execution_count": 20,
      "outputs": [
        {
          "output_type": "stream",
          "name": "stdout",
          "text": [
            "DecisionTreeRegressionModel: uid=DecisionTreeRegressor_9ccdac40b5e7, depth=5, numNodes=49, numFeatures=33\n",
            "  If (feature 12 <= 2.5)\n",
            "   If (feature 12 <= 1.5)\n",
            "    If (feature 5 in {1.0,2.0})\n",
            "     If (feature 3 in {5.0,6.0,8.0,9.0,10.0,12.0,14.0,16.0,18.0,19.0,20.0,23.0,25.0,26.0,27.0,28.0,29.0,30.0,31.0,32.0,35.0})\n",
            "      If (feature 3 in {8.0,14.0,16.0,19.0,26.0,29.0,30.0,32.0})\n",
            "       Predict: 79.80661577608143\n",
            "      Else (feature 3 not in {8.0,14.0,16.0,19.0,26.0,29.0,30.0,32.0})\n",
            "       Predict: 107.79655172413793\n",
            "     Else (feature 3 not in {5.0,6.0,8.0,9.0,10.0,12.0,14.0,16.0,18.0,19.0,20.0,23.0,25.0,26.0,27.0,28.0,29.0,30.0,31.0,32.0,35.0})\n",
            "      If (feature 8 <= 37.743764999999996)\n",
            "       Predict: 311.94594594594594\n",
            "      Else (feature 8 > 37.743764999999996)\n",
            "       Predict: 136.87947598253274\n",
            "    Else (feature 5 not in {1.0,2.0})\n",
            "     If (feature 3 in {0.0,1.0,2.0,3.0,4.0,5.0,6.0,7.0,8.0,10.0,12.0,13.0,14.0,15.0,16.0,18.0,19.0,20.0,22.0,23.0,24.0,25.0,26.0,28.0,29.0,30.0,31.0,33.0,34.0})\n",
            "      If (feature 3 in {5.0,8.0,10.0,12.0,14.0,16.0,18.0,19.0,20.0,22.0,23.0,24.0,25.0,26.0,28.0,29.0,30.0,33.0})\n",
            "       Predict: 135.85\n",
            "      Else (feature 3 not in {5.0,8.0,10.0,12.0,14.0,16.0,18.0,19.0,20.0,22.0,23.0,24.0,25.0,26.0,28.0,29.0,30.0,33.0})\n",
            "       Predict: 187.7634892086331\n",
            "     Else (feature 3 not in {0.0,1.0,2.0,3.0,4.0,5.0,6.0,7.0,8.0,10.0,12.0,13.0,14.0,15.0,16.0,18.0,19.0,20.0,22.0,23.0,24.0,25.0,26.0,28.0,29.0,30.0,31.0,33.0,34.0})\n",
            "      If (feature 20 <= 8.5)\n",
            "       Predict: 2546.6666666666665\n",
            "      Else (feature 20 > 8.5)\n",
            "       Predict: 239.1095890410959\n",
            "   Else (feature 12 > 1.5)\n",
            "    If (feature 13 <= 4.5)\n",
            "     If (feature 14 <= 317.5)\n",
            "      If (feature 3 in {0.0,1.0,2.0,3.0,4.0,5.0,6.0,7.0,8.0,9.0,10.0,11.0,12.0,14.0,15.0,16.0,18.0,19.0,20.0,22.0,23.0,24.0,25.0,26.0,27.0,28.0,30.0,33.0,34.0})\n",
            "       Predict: 256.0668080593849\n",
            "      Else (feature 3 not in {0.0,1.0,2.0,3.0,4.0,5.0,6.0,7.0,8.0,9.0,10.0,11.0,12.0,14.0,15.0,16.0,18.0,19.0,20.0,22.0,23.0,24.0,25.0,26.0,27.0,28.0,30.0,33.0,34.0})\n",
            "       Predict: 446.6\n",
            "     Else (feature 14 > 317.5)\n",
            "      If (feature 0 in {1.0})\n",
            "       Predict: 198.0\n",
            "      Else (feature 0 not in {1.0})\n",
            "       Predict: 3800.0\n",
            "    Else (feature 13 > 4.5)\n",
            "     If (feature 15 <= 0.5)\n",
            "      If (feature 2 in {1.0})\n",
            "       Predict: 300.0\n",
            "      Else (feature 2 not in {1.0})\n",
            "       Predict: 10000.0\n",
            "     Else (feature 15 > 0.5)\n",
            "      If (feature 3 in {0.0,1.0,4.0,5.0,7.0,8.0,20.0})\n",
            "       Predict: 242.78571428571428\n",
            "      Else (feature 3 not in {0.0,1.0,4.0,5.0,7.0,8.0,20.0})\n",
            "       Predict: 496.5\n",
            "  Else (feature 12 > 2.5)\n",
            "   If (feature 1 in {0.0,1.0,2.0,3.0,4.0})\n",
            "    If (feature 3 in {0.0,2.0,3.0,4.0,5.0,6.0,7.0,8.0,9.0,12.0,14.0,15.0,16.0,17.0,18.0,19.0,20.0,21.0,22.0,23.0,24.0,25.0,26.0,28.0,29.0,30.0,33.0})\n",
            "     If (feature 14 <= 7.5)\n",
            "      If (feature 3 in {5.0,8.0,14.0,16.0,19.0,20.0,22.0,23.0,25.0,28.0,29.0,30.0,33.0})\n",
            "       Predict: 362.6923076923077\n",
            "      Else (feature 3 not in {5.0,8.0,14.0,16.0,19.0,20.0,22.0,23.0,25.0,28.0,29.0,30.0,33.0})\n",
            "       Predict: 544.1752136752136\n",
            "     Else (feature 14 > 7.5)\n",
            "      If (feature 11 <= 1.75)\n",
            "       Predict: 217.6153846153846\n",
            "      Else (feature 11 > 1.75)\n",
            "       Predict: 333.5528455284553\n",
            "    Else (feature 3 not in {0.0,2.0,3.0,4.0,5.0,6.0,7.0,8.0,9.0,12.0,14.0,15.0,16.0,17.0,18.0,19.0,20.0,21.0,22.0,23.0,24.0,25.0,26.0,28.0,29.0,30.0,33.0})\n",
            "     If (feature 12 <= 5.5)\n",
            "      If (feature 9 <= -122.411095)\n",
            "       Predict: 623.912\n",
            "      Else (feature 9 > -122.411095)\n",
            "       Predict: 2337.2\n",
            "     Else (feature 12 > 5.5)\n",
            "      If (feature 4 in {1.0,15.0})\n",
            "       Predict: 1494.25\n",
            "      Else (feature 4 not in {1.0,15.0})\n",
            "       Predict: 8000.0\n",
            "   Else (feature 1 not in {0.0,1.0,2.0,3.0,4.0})\n",
            "    Predict: 8000.0\n",
            "\n"
          ]
        }
      ]
    },
    {
      "cell_type": "code",
      "source": [
        "# 변수 중요도 출력\n",
        "import pandas as pd\n",
        "\n",
        "featureImp = pd.DataFrame(\n",
        "    list(zip(vecAssembler.getInputCols(), dtModel.featureImportances)),\n",
        "    columns = [\"feature\", \"importance\"]\n",
        ")\n",
        "featureImp.sort_values(by = \"importance\", ascending=False)"
      ],
      "metadata": {
        "colab": {
          "base_uri": "https://localhost:8080/",
          "height": 1000
        },
        "id": "XU4GQrb0Z6qp",
        "outputId": "212aa300-5c2b-41b3-c58c-efe32a4042d9"
      },
      "execution_count": 21,
      "outputs": [
        {
          "output_type": "execute_result",
          "data": {
            "text/plain": [
              "                           feature  importance\n",
              "12                        bedrooms    0.272822\n",
              "1         cancellation_policyIndex    0.157866\n",
              "2            instant_bookableIndex    0.131703\n",
              "15               number_of_reviews    0.118573\n",
              "4               property_typeIndex    0.094791\n",
              "3      neighbourhood_cleansedIndex    0.064283\n",
              "20     review_scores_communication    0.044116\n",
              "9                        longitude    0.039507\n",
              "14                  minimum_nights    0.028713\n",
              "0           host_is_superhostIndex    0.018161\n",
              "13                            beds    0.014372\n",
              "5                   room_typeIndex    0.010418\n",
              "8                         latitude    0.003075\n",
              "11                       bathrooms    0.001600\n",
              "23                     bedrooms_na    0.000000\n",
              "29        review_scores_checkin_na    0.000000\n",
              "30  review_scores_communication_na    0.000000\n",
              "28    review_scores_cleanliness_na    0.000000\n",
              "27       review_scores_accuracy_na    0.000000\n",
              "26         review_scores_rating_na    0.000000\n",
              "31       review_scores_location_na    0.000000\n",
              "25                         beds_na    0.000000\n",
              "24                    bathrooms_na    0.000000\n",
              "16            review_scores_rating    0.000000\n",
              "22             review_scores_value    0.000000\n",
              "21          review_scores_location    0.000000\n",
              "19           review_scores_checkin    0.000000\n",
              "18       review_scores_cleanliness    0.000000\n",
              "17          review_scores_accuracy    0.000000\n",
              "10                    accommodates    0.000000\n",
              "7        host_total_listings_count    0.000000\n",
              "6                    bed_typeIndex    0.000000\n",
              "32          review_scores_value_na    0.000000"
            ],
            "text/html": [
              "\n",
              "  <div id=\"df-542e5995-103c-47ce-9af3-08d178e53c46\">\n",
              "    <div class=\"colab-df-container\">\n",
              "      <div>\n",
              "<style scoped>\n",
              "    .dataframe tbody tr th:only-of-type {\n",
              "        vertical-align: middle;\n",
              "    }\n",
              "\n",
              "    .dataframe tbody tr th {\n",
              "        vertical-align: top;\n",
              "    }\n",
              "\n",
              "    .dataframe thead th {\n",
              "        text-align: right;\n",
              "    }\n",
              "</style>\n",
              "<table border=\"1\" class=\"dataframe\">\n",
              "  <thead>\n",
              "    <tr style=\"text-align: right;\">\n",
              "      <th></th>\n",
              "      <th>feature</th>\n",
              "      <th>importance</th>\n",
              "    </tr>\n",
              "  </thead>\n",
              "  <tbody>\n",
              "    <tr>\n",
              "      <th>12</th>\n",
              "      <td>bedrooms</td>\n",
              "      <td>0.272822</td>\n",
              "    </tr>\n",
              "    <tr>\n",
              "      <th>1</th>\n",
              "      <td>cancellation_policyIndex</td>\n",
              "      <td>0.157866</td>\n",
              "    </tr>\n",
              "    <tr>\n",
              "      <th>2</th>\n",
              "      <td>instant_bookableIndex</td>\n",
              "      <td>0.131703</td>\n",
              "    </tr>\n",
              "    <tr>\n",
              "      <th>15</th>\n",
              "      <td>number_of_reviews</td>\n",
              "      <td>0.118573</td>\n",
              "    </tr>\n",
              "    <tr>\n",
              "      <th>4</th>\n",
              "      <td>property_typeIndex</td>\n",
              "      <td>0.094791</td>\n",
              "    </tr>\n",
              "    <tr>\n",
              "      <th>3</th>\n",
              "      <td>neighbourhood_cleansedIndex</td>\n",
              "      <td>0.064283</td>\n",
              "    </tr>\n",
              "    <tr>\n",
              "      <th>20</th>\n",
              "      <td>review_scores_communication</td>\n",
              "      <td>0.044116</td>\n",
              "    </tr>\n",
              "    <tr>\n",
              "      <th>9</th>\n",
              "      <td>longitude</td>\n",
              "      <td>0.039507</td>\n",
              "    </tr>\n",
              "    <tr>\n",
              "      <th>14</th>\n",
              "      <td>minimum_nights</td>\n",
              "      <td>0.028713</td>\n",
              "    </tr>\n",
              "    <tr>\n",
              "      <th>0</th>\n",
              "      <td>host_is_superhostIndex</td>\n",
              "      <td>0.018161</td>\n",
              "    </tr>\n",
              "    <tr>\n",
              "      <th>13</th>\n",
              "      <td>beds</td>\n",
              "      <td>0.014372</td>\n",
              "    </tr>\n",
              "    <tr>\n",
              "      <th>5</th>\n",
              "      <td>room_typeIndex</td>\n",
              "      <td>0.010418</td>\n",
              "    </tr>\n",
              "    <tr>\n",
              "      <th>8</th>\n",
              "      <td>latitude</td>\n",
              "      <td>0.003075</td>\n",
              "    </tr>\n",
              "    <tr>\n",
              "      <th>11</th>\n",
              "      <td>bathrooms</td>\n",
              "      <td>0.001600</td>\n",
              "    </tr>\n",
              "    <tr>\n",
              "      <th>23</th>\n",
              "      <td>bedrooms_na</td>\n",
              "      <td>0.000000</td>\n",
              "    </tr>\n",
              "    <tr>\n",
              "      <th>29</th>\n",
              "      <td>review_scores_checkin_na</td>\n",
              "      <td>0.000000</td>\n",
              "    </tr>\n",
              "    <tr>\n",
              "      <th>30</th>\n",
              "      <td>review_scores_communication_na</td>\n",
              "      <td>0.000000</td>\n",
              "    </tr>\n",
              "    <tr>\n",
              "      <th>28</th>\n",
              "      <td>review_scores_cleanliness_na</td>\n",
              "      <td>0.000000</td>\n",
              "    </tr>\n",
              "    <tr>\n",
              "      <th>27</th>\n",
              "      <td>review_scores_accuracy_na</td>\n",
              "      <td>0.000000</td>\n",
              "    </tr>\n",
              "    <tr>\n",
              "      <th>26</th>\n",
              "      <td>review_scores_rating_na</td>\n",
              "      <td>0.000000</td>\n",
              "    </tr>\n",
              "    <tr>\n",
              "      <th>31</th>\n",
              "      <td>review_scores_location_na</td>\n",
              "      <td>0.000000</td>\n",
              "    </tr>\n",
              "    <tr>\n",
              "      <th>25</th>\n",
              "      <td>beds_na</td>\n",
              "      <td>0.000000</td>\n",
              "    </tr>\n",
              "    <tr>\n",
              "      <th>24</th>\n",
              "      <td>bathrooms_na</td>\n",
              "      <td>0.000000</td>\n",
              "    </tr>\n",
              "    <tr>\n",
              "      <th>16</th>\n",
              "      <td>review_scores_rating</td>\n",
              "      <td>0.000000</td>\n",
              "    </tr>\n",
              "    <tr>\n",
              "      <th>22</th>\n",
              "      <td>review_scores_value</td>\n",
              "      <td>0.000000</td>\n",
              "    </tr>\n",
              "    <tr>\n",
              "      <th>21</th>\n",
              "      <td>review_scores_location</td>\n",
              "      <td>0.000000</td>\n",
              "    </tr>\n",
              "    <tr>\n",
              "      <th>19</th>\n",
              "      <td>review_scores_checkin</td>\n",
              "      <td>0.000000</td>\n",
              "    </tr>\n",
              "    <tr>\n",
              "      <th>18</th>\n",
              "      <td>review_scores_cleanliness</td>\n",
              "      <td>0.000000</td>\n",
              "    </tr>\n",
              "    <tr>\n",
              "      <th>17</th>\n",
              "      <td>review_scores_accuracy</td>\n",
              "      <td>0.000000</td>\n",
              "    </tr>\n",
              "    <tr>\n",
              "      <th>10</th>\n",
              "      <td>accommodates</td>\n",
              "      <td>0.000000</td>\n",
              "    </tr>\n",
              "    <tr>\n",
              "      <th>7</th>\n",
              "      <td>host_total_listings_count</td>\n",
              "      <td>0.000000</td>\n",
              "    </tr>\n",
              "    <tr>\n",
              "      <th>6</th>\n",
              "      <td>bed_typeIndex</td>\n",
              "      <td>0.000000</td>\n",
              "    </tr>\n",
              "    <tr>\n",
              "      <th>32</th>\n",
              "      <td>review_scores_value_na</td>\n",
              "      <td>0.000000</td>\n",
              "    </tr>\n",
              "  </tbody>\n",
              "</table>\n",
              "</div>\n",
              "      <button class=\"colab-df-convert\" onclick=\"convertToInteractive('df-542e5995-103c-47ce-9af3-08d178e53c46')\"\n",
              "              title=\"Convert this dataframe to an interactive table.\"\n",
              "              style=\"display:none;\">\n",
              "        \n",
              "  <svg xmlns=\"http://www.w3.org/2000/svg\" height=\"24px\"viewBox=\"0 0 24 24\"\n",
              "       width=\"24px\">\n",
              "    <path d=\"M0 0h24v24H0V0z\" fill=\"none\"/>\n",
              "    <path d=\"M18.56 5.44l.94 2.06.94-2.06 2.06-.94-2.06-.94-.94-2.06-.94 2.06-2.06.94zm-11 1L8.5 8.5l.94-2.06 2.06-.94-2.06-.94L8.5 2.5l-.94 2.06-2.06.94zm10 10l.94 2.06.94-2.06 2.06-.94-2.06-.94-.94-2.06-.94 2.06-2.06.94z\"/><path d=\"M17.41 7.96l-1.37-1.37c-.4-.4-.92-.59-1.43-.59-.52 0-1.04.2-1.43.59L10.3 9.45l-7.72 7.72c-.78.78-.78 2.05 0 2.83L4 21.41c.39.39.9.59 1.41.59.51 0 1.02-.2 1.41-.59l7.78-7.78 2.81-2.81c.8-.78.8-2.07 0-2.86zM5.41 20L4 18.59l7.72-7.72 1.47 1.35L5.41 20z\"/>\n",
              "  </svg>\n",
              "      </button>\n",
              "      \n",
              "  <style>\n",
              "    .colab-df-container {\n",
              "      display:flex;\n",
              "      flex-wrap:wrap;\n",
              "      gap: 12px;\n",
              "    }\n",
              "\n",
              "    .colab-df-convert {\n",
              "      background-color: #E8F0FE;\n",
              "      border: none;\n",
              "      border-radius: 50%;\n",
              "      cursor: pointer;\n",
              "      display: none;\n",
              "      fill: #1967D2;\n",
              "      height: 32px;\n",
              "      padding: 0 0 0 0;\n",
              "      width: 32px;\n",
              "    }\n",
              "\n",
              "    .colab-df-convert:hover {\n",
              "      background-color: #E2EBFA;\n",
              "      box-shadow: 0px 1px 2px rgba(60, 64, 67, 0.3), 0px 1px 3px 1px rgba(60, 64, 67, 0.15);\n",
              "      fill: #174EA6;\n",
              "    }\n",
              "\n",
              "    [theme=dark] .colab-df-convert {\n",
              "      background-color: #3B4455;\n",
              "      fill: #D2E3FC;\n",
              "    }\n",
              "\n",
              "    [theme=dark] .colab-df-convert:hover {\n",
              "      background-color: #434B5C;\n",
              "      box-shadow: 0px 1px 3px 1px rgba(0, 0, 0, 0.15);\n",
              "      filter: drop-shadow(0px 1px 2px rgba(0, 0, 0, 0.3));\n",
              "      fill: #FFFFFF;\n",
              "    }\n",
              "  </style>\n",
              "\n",
              "      <script>\n",
              "        const buttonEl =\n",
              "          document.querySelector('#df-542e5995-103c-47ce-9af3-08d178e53c46 button.colab-df-convert');\n",
              "        buttonEl.style.display =\n",
              "          google.colab.kernel.accessAllowed ? 'block' : 'none';\n",
              "\n",
              "        async function convertToInteractive(key) {\n",
              "          const element = document.querySelector('#df-542e5995-103c-47ce-9af3-08d178e53c46');\n",
              "          const dataTable =\n",
              "            await google.colab.kernel.invokeFunction('convertToInteractive',\n",
              "                                                     [key], {});\n",
              "          if (!dataTable) return;\n",
              "\n",
              "          const docLinkHtml = 'Like what you see? Visit the ' +\n",
              "            '<a target=\"_blank\" href=https://colab.research.google.com/notebooks/data_table.ipynb>data table notebook</a>'\n",
              "            + ' to learn more about interactive tables.';\n",
              "          element.innerHTML = '';\n",
              "          dataTable['output_type'] = 'display_data';\n",
              "          await google.colab.output.renderOutput(dataTable, element);\n",
              "          const docLink = document.createElement('div');\n",
              "          docLink.innerHTML = docLinkHtml;\n",
              "          element.appendChild(docLink);\n",
              "        }\n",
              "      </script>\n",
              "    </div>\n",
              "  </div>\n",
              "  "
            ]
          },
          "metadata": {},
          "execution_count": 21
        }
      ]
    },
    {
      "cell_type": "code",
      "source": [
        "# Random Forest\n",
        "from pyspark.ml.regression import RandomForestRegressor\n",
        "rf = RandomForestRegressor(labelCol=\"price\", maxBins=40, seed = 42)\n",
        "pipeline = Pipeline(stages = [stringIndexer, vecAssembler, rf])\n",
        "pipelineModel = pipeline.fit(trainDF)\n",
        "\n",
        "rfModel = pipelineModel.stages[-1]\n",
        "featureImp = pd.DataFrame(\n",
        "    list(zip(vecAssembler.getInputCols(), rfModel.featureImportances)),\n",
        "    columns = [\"feature\", \"importance\"]\n",
        ")\n",
        "featureImp.sort_values(by = \"importance\", ascending=False)"
      ],
      "metadata": {
        "id": "LE4X8K3Au2XK",
        "colab": {
          "base_uri": "https://localhost:8080/",
          "height": 1000
        },
        "outputId": "2095cc86-6c68-4b69-f1f3-9eba0710960e"
      },
      "execution_count": 26,
      "outputs": [
        {
          "output_type": "execute_result",
          "data": {
            "text/plain": [
              "                           feature  importance\n",
              "12                        bedrooms    0.148366\n",
              "1         cancellation_policyIndex    0.146566\n",
              "10                    accommodates    0.143950\n",
              "3      neighbourhood_cleansedIndex    0.117988\n",
              "14                  minimum_nights    0.055242\n",
              "8                         latitude    0.048732\n",
              "11                       bathrooms    0.048505\n",
              "13                            beds    0.048285\n",
              "4               property_typeIndex    0.042115\n",
              "15               number_of_reviews    0.038880\n",
              "16            review_scores_rating    0.037587\n",
              "7        host_total_listings_count    0.029453\n",
              "5                   room_typeIndex    0.021203\n",
              "9                        longitude    0.018103\n",
              "32          review_scores_value_na    0.009896\n",
              "22             review_scores_value    0.007718\n",
              "27       review_scores_accuracy_na    0.006846\n",
              "29        review_scores_checkin_na    0.006472\n",
              "17          review_scores_accuracy    0.005192\n",
              "21          review_scores_location    0.004440\n",
              "20     review_scores_communication    0.003984\n",
              "2            instant_bookableIndex    0.003787\n",
              "26         review_scores_rating_na    0.003157\n",
              "0           host_is_superhostIndex    0.001527\n",
              "18       review_scores_cleanliness    0.001098\n",
              "19           review_scores_checkin    0.000755\n",
              "31       review_scores_location_na    0.000147\n",
              "28    review_scores_cleanliness_na    0.000008\n",
              "30  review_scores_communication_na    0.000000\n",
              "6                    bed_typeIndex    0.000000\n",
              "25                         beds_na    0.000000\n",
              "23                     bedrooms_na    0.000000\n",
              "24                    bathrooms_na    0.000000"
            ],
            "text/html": [
              "\n",
              "  <div id=\"df-928f2321-d4a7-4e1d-accb-e9d93f8639d4\">\n",
              "    <div class=\"colab-df-container\">\n",
              "      <div>\n",
              "<style scoped>\n",
              "    .dataframe tbody tr th:only-of-type {\n",
              "        vertical-align: middle;\n",
              "    }\n",
              "\n",
              "    .dataframe tbody tr th {\n",
              "        vertical-align: top;\n",
              "    }\n",
              "\n",
              "    .dataframe thead th {\n",
              "        text-align: right;\n",
              "    }\n",
              "</style>\n",
              "<table border=\"1\" class=\"dataframe\">\n",
              "  <thead>\n",
              "    <tr style=\"text-align: right;\">\n",
              "      <th></th>\n",
              "      <th>feature</th>\n",
              "      <th>importance</th>\n",
              "    </tr>\n",
              "  </thead>\n",
              "  <tbody>\n",
              "    <tr>\n",
              "      <th>12</th>\n",
              "      <td>bedrooms</td>\n",
              "      <td>0.148366</td>\n",
              "    </tr>\n",
              "    <tr>\n",
              "      <th>1</th>\n",
              "      <td>cancellation_policyIndex</td>\n",
              "      <td>0.146566</td>\n",
              "    </tr>\n",
              "    <tr>\n",
              "      <th>10</th>\n",
              "      <td>accommodates</td>\n",
              "      <td>0.143950</td>\n",
              "    </tr>\n",
              "    <tr>\n",
              "      <th>3</th>\n",
              "      <td>neighbourhood_cleansedIndex</td>\n",
              "      <td>0.117988</td>\n",
              "    </tr>\n",
              "    <tr>\n",
              "      <th>14</th>\n",
              "      <td>minimum_nights</td>\n",
              "      <td>0.055242</td>\n",
              "    </tr>\n",
              "    <tr>\n",
              "      <th>8</th>\n",
              "      <td>latitude</td>\n",
              "      <td>0.048732</td>\n",
              "    </tr>\n",
              "    <tr>\n",
              "      <th>11</th>\n",
              "      <td>bathrooms</td>\n",
              "      <td>0.048505</td>\n",
              "    </tr>\n",
              "    <tr>\n",
              "      <th>13</th>\n",
              "      <td>beds</td>\n",
              "      <td>0.048285</td>\n",
              "    </tr>\n",
              "    <tr>\n",
              "      <th>4</th>\n",
              "      <td>property_typeIndex</td>\n",
              "      <td>0.042115</td>\n",
              "    </tr>\n",
              "    <tr>\n",
              "      <th>15</th>\n",
              "      <td>number_of_reviews</td>\n",
              "      <td>0.038880</td>\n",
              "    </tr>\n",
              "    <tr>\n",
              "      <th>16</th>\n",
              "      <td>review_scores_rating</td>\n",
              "      <td>0.037587</td>\n",
              "    </tr>\n",
              "    <tr>\n",
              "      <th>7</th>\n",
              "      <td>host_total_listings_count</td>\n",
              "      <td>0.029453</td>\n",
              "    </tr>\n",
              "    <tr>\n",
              "      <th>5</th>\n",
              "      <td>room_typeIndex</td>\n",
              "      <td>0.021203</td>\n",
              "    </tr>\n",
              "    <tr>\n",
              "      <th>9</th>\n",
              "      <td>longitude</td>\n",
              "      <td>0.018103</td>\n",
              "    </tr>\n",
              "    <tr>\n",
              "      <th>32</th>\n",
              "      <td>review_scores_value_na</td>\n",
              "      <td>0.009896</td>\n",
              "    </tr>\n",
              "    <tr>\n",
              "      <th>22</th>\n",
              "      <td>review_scores_value</td>\n",
              "      <td>0.007718</td>\n",
              "    </tr>\n",
              "    <tr>\n",
              "      <th>27</th>\n",
              "      <td>review_scores_accuracy_na</td>\n",
              "      <td>0.006846</td>\n",
              "    </tr>\n",
              "    <tr>\n",
              "      <th>29</th>\n",
              "      <td>review_scores_checkin_na</td>\n",
              "      <td>0.006472</td>\n",
              "    </tr>\n",
              "    <tr>\n",
              "      <th>17</th>\n",
              "      <td>review_scores_accuracy</td>\n",
              "      <td>0.005192</td>\n",
              "    </tr>\n",
              "    <tr>\n",
              "      <th>21</th>\n",
              "      <td>review_scores_location</td>\n",
              "      <td>0.004440</td>\n",
              "    </tr>\n",
              "    <tr>\n",
              "      <th>20</th>\n",
              "      <td>review_scores_communication</td>\n",
              "      <td>0.003984</td>\n",
              "    </tr>\n",
              "    <tr>\n",
              "      <th>2</th>\n",
              "      <td>instant_bookableIndex</td>\n",
              "      <td>0.003787</td>\n",
              "    </tr>\n",
              "    <tr>\n",
              "      <th>26</th>\n",
              "      <td>review_scores_rating_na</td>\n",
              "      <td>0.003157</td>\n",
              "    </tr>\n",
              "    <tr>\n",
              "      <th>0</th>\n",
              "      <td>host_is_superhostIndex</td>\n",
              "      <td>0.001527</td>\n",
              "    </tr>\n",
              "    <tr>\n",
              "      <th>18</th>\n",
              "      <td>review_scores_cleanliness</td>\n",
              "      <td>0.001098</td>\n",
              "    </tr>\n",
              "    <tr>\n",
              "      <th>19</th>\n",
              "      <td>review_scores_checkin</td>\n",
              "      <td>0.000755</td>\n",
              "    </tr>\n",
              "    <tr>\n",
              "      <th>31</th>\n",
              "      <td>review_scores_location_na</td>\n",
              "      <td>0.000147</td>\n",
              "    </tr>\n",
              "    <tr>\n",
              "      <th>28</th>\n",
              "      <td>review_scores_cleanliness_na</td>\n",
              "      <td>0.000008</td>\n",
              "    </tr>\n",
              "    <tr>\n",
              "      <th>30</th>\n",
              "      <td>review_scores_communication_na</td>\n",
              "      <td>0.000000</td>\n",
              "    </tr>\n",
              "    <tr>\n",
              "      <th>6</th>\n",
              "      <td>bed_typeIndex</td>\n",
              "      <td>0.000000</td>\n",
              "    </tr>\n",
              "    <tr>\n",
              "      <th>25</th>\n",
              "      <td>beds_na</td>\n",
              "      <td>0.000000</td>\n",
              "    </tr>\n",
              "    <tr>\n",
              "      <th>23</th>\n",
              "      <td>bedrooms_na</td>\n",
              "      <td>0.000000</td>\n",
              "    </tr>\n",
              "    <tr>\n",
              "      <th>24</th>\n",
              "      <td>bathrooms_na</td>\n",
              "      <td>0.000000</td>\n",
              "    </tr>\n",
              "  </tbody>\n",
              "</table>\n",
              "</div>\n",
              "      <button class=\"colab-df-convert\" onclick=\"convertToInteractive('df-928f2321-d4a7-4e1d-accb-e9d93f8639d4')\"\n",
              "              title=\"Convert this dataframe to an interactive table.\"\n",
              "              style=\"display:none;\">\n",
              "        \n",
              "  <svg xmlns=\"http://www.w3.org/2000/svg\" height=\"24px\"viewBox=\"0 0 24 24\"\n",
              "       width=\"24px\">\n",
              "    <path d=\"M0 0h24v24H0V0z\" fill=\"none\"/>\n",
              "    <path d=\"M18.56 5.44l.94 2.06.94-2.06 2.06-.94-2.06-.94-.94-2.06-.94 2.06-2.06.94zm-11 1L8.5 8.5l.94-2.06 2.06-.94-2.06-.94L8.5 2.5l-.94 2.06-2.06.94zm10 10l.94 2.06.94-2.06 2.06-.94-2.06-.94-.94-2.06-.94 2.06-2.06.94z\"/><path d=\"M17.41 7.96l-1.37-1.37c-.4-.4-.92-.59-1.43-.59-.52 0-1.04.2-1.43.59L10.3 9.45l-7.72 7.72c-.78.78-.78 2.05 0 2.83L4 21.41c.39.39.9.59 1.41.59.51 0 1.02-.2 1.41-.59l7.78-7.78 2.81-2.81c.8-.78.8-2.07 0-2.86zM5.41 20L4 18.59l7.72-7.72 1.47 1.35L5.41 20z\"/>\n",
              "  </svg>\n",
              "      </button>\n",
              "      \n",
              "  <style>\n",
              "    .colab-df-container {\n",
              "      display:flex;\n",
              "      flex-wrap:wrap;\n",
              "      gap: 12px;\n",
              "    }\n",
              "\n",
              "    .colab-df-convert {\n",
              "      background-color: #E8F0FE;\n",
              "      border: none;\n",
              "      border-radius: 50%;\n",
              "      cursor: pointer;\n",
              "      display: none;\n",
              "      fill: #1967D2;\n",
              "      height: 32px;\n",
              "      padding: 0 0 0 0;\n",
              "      width: 32px;\n",
              "    }\n",
              "\n",
              "    .colab-df-convert:hover {\n",
              "      background-color: #E2EBFA;\n",
              "      box-shadow: 0px 1px 2px rgba(60, 64, 67, 0.3), 0px 1px 3px 1px rgba(60, 64, 67, 0.15);\n",
              "      fill: #174EA6;\n",
              "    }\n",
              "\n",
              "    [theme=dark] .colab-df-convert {\n",
              "      background-color: #3B4455;\n",
              "      fill: #D2E3FC;\n",
              "    }\n",
              "\n",
              "    [theme=dark] .colab-df-convert:hover {\n",
              "      background-color: #434B5C;\n",
              "      box-shadow: 0px 1px 3px 1px rgba(0, 0, 0, 0.15);\n",
              "      filter: drop-shadow(0px 1px 2px rgba(0, 0, 0, 0.3));\n",
              "      fill: #FFFFFF;\n",
              "    }\n",
              "  </style>\n",
              "\n",
              "      <script>\n",
              "        const buttonEl =\n",
              "          document.querySelector('#df-928f2321-d4a7-4e1d-accb-e9d93f8639d4 button.colab-df-convert');\n",
              "        buttonEl.style.display =\n",
              "          google.colab.kernel.accessAllowed ? 'block' : 'none';\n",
              "\n",
              "        async function convertToInteractive(key) {\n",
              "          const element = document.querySelector('#df-928f2321-d4a7-4e1d-accb-e9d93f8639d4');\n",
              "          const dataTable =\n",
              "            await google.colab.kernel.invokeFunction('convertToInteractive',\n",
              "                                                     [key], {});\n",
              "          if (!dataTable) return;\n",
              "\n",
              "          const docLinkHtml = 'Like what you see? Visit the ' +\n",
              "            '<a target=\"_blank\" href=https://colab.research.google.com/notebooks/data_table.ipynb>data table notebook</a>'\n",
              "            + ' to learn more about interactive tables.';\n",
              "          element.innerHTML = '';\n",
              "          dataTable['output_type'] = 'display_data';\n",
              "          await google.colab.output.renderOutput(dataTable, element);\n",
              "          const docLink = document.createElement('div');\n",
              "          docLink.innerHTML = docLinkHtml;\n",
              "          element.appendChild(docLink);\n",
              "        }\n",
              "      </script>\n",
              "    </div>\n",
              "  </div>\n",
              "  "
            ]
          },
          "metadata": {},
          "execution_count": 26
        }
      ]
    },
    {
      "cell_type": "code",
      "source": [
        "pipeline = Pipeline(stages = [stringIndexer, vecAssembler, rf])"
      ],
      "metadata": {
        "id": "h6ePJsojcUAn"
      },
      "execution_count": 33,
      "outputs": []
    },
    {
      "cell_type": "code",
      "source": [
        "from pyspark.ml.tuning import ParamGridBuilder\n",
        "paramGrid = (ParamGridBuilder().addGrid(rf.maxDepth, [2, 4, 6]).addGrid(rf.numTrees, [10, 100]).build())"
      ],
      "metadata": {
        "id": "DogBsD7pu-Iu"
      },
      "execution_count": 34,
      "outputs": []
    },
    {
      "cell_type": "code",
      "source": [
        "evaluator = RegressionEvaluator(labelCol=\"price\", predictionCol=\"prediction\", metricName=\"rmse\")"
      ],
      "metadata": {
        "id": "qxOlmbUBvUM9"
      },
      "execution_count": 35,
      "outputs": []
    },
    {
      "cell_type": "code",
      "source": [
        "from pyspark.ml.tuning import CrossValidator\n",
        "\n",
        "cv = CrossValidator(estimator=pipeline, evaluator=evaluator, estimatorParamMaps=paramGrid, numFolds=3, seed=32)\n",
        "cvModel = cv.fit(trainDF)"
      ],
      "metadata": {
        "id": "IsCMnKlHveNN"
      },
      "execution_count": 36,
      "outputs": []
    },
    {
      "cell_type": "code",
      "source": [
        "list(zip(cvModel.getEstimatorParamMaps(), cvModel.avgMetrics))"
      ],
      "metadata": {
        "id": "5S9mX-jvwEEM",
        "colab": {
          "base_uri": "https://localhost:8080/"
        },
        "outputId": "64341b62-8dc7-4f20-80d8-ba231c9e8c69"
      },
      "execution_count": 37,
      "outputs": [
        {
          "output_type": "execute_result",
          "data": {
            "text/plain": [
              "[({Param(parent='RandomForestRegressor_a809306dbaa8', name='maxDepth', doc='Maximum depth of the tree. (>= 0) E.g., depth 0 means 1 leaf node; depth 1 means 1 internal node + 2 leaf nodes. Must be in range [0, 30].'): 2,\n",
              "   Param(parent='RandomForestRegressor_a809306dbaa8', name='numTrees', doc='Number of trees to train (>= 1).'): 10},\n",
              "  311.2081409583495),\n",
              " ({Param(parent='RandomForestRegressor_a809306dbaa8', name='maxDepth', doc='Maximum depth of the tree. (>= 0) E.g., depth 0 means 1 leaf node; depth 1 means 1 internal node + 2 leaf nodes. Must be in range [0, 30].'): 2,\n",
              "   Param(parent='RandomForestRegressor_a809306dbaa8', name='numTrees', doc='Number of trees to train (>= 1).'): 100},\n",
              "  310.07157754152513),\n",
              " ({Param(parent='RandomForestRegressor_a809306dbaa8', name='maxDepth', doc='Maximum depth of the tree. (>= 0) E.g., depth 0 means 1 leaf node; depth 1 means 1 internal node + 2 leaf nodes. Must be in range [0, 30].'): 4,\n",
              "   Param(parent='RandomForestRegressor_a809306dbaa8', name='numTrees', doc='Number of trees to train (>= 1).'): 10},\n",
              "  318.86533871712794),\n",
              " ({Param(parent='RandomForestRegressor_a809306dbaa8', name='maxDepth', doc='Maximum depth of the tree. (>= 0) E.g., depth 0 means 1 leaf node; depth 1 means 1 internal node + 2 leaf nodes. Must be in range [0, 30].'): 4,\n",
              "   Param(parent='RandomForestRegressor_a809306dbaa8', name='numTrees', doc='Number of trees to train (>= 1).'): 100},\n",
              "  309.66604368440875),\n",
              " ({Param(parent='RandomForestRegressor_a809306dbaa8', name='maxDepth', doc='Maximum depth of the tree. (>= 0) E.g., depth 0 means 1 leaf node; depth 1 means 1 internal node + 2 leaf nodes. Must be in range [0, 30].'): 6,\n",
              "   Param(parent='RandomForestRegressor_a809306dbaa8', name='numTrees', doc='Number of trees to train (>= 1).'): 10},\n",
              "  324.2906612823845),\n",
              " ({Param(parent='RandomForestRegressor_a809306dbaa8', name='maxDepth', doc='Maximum depth of the tree. (>= 0) E.g., depth 0 means 1 leaf node; depth 1 means 1 internal node + 2 leaf nodes. Must be in range [0, 30].'): 6,\n",
              "   Param(parent='RandomForestRegressor_a809306dbaa8', name='numTrees', doc='Number of trees to train (>= 1).'): 100},\n",
              "  309.34535680551403)]"
            ]
          },
          "metadata": {},
          "execution_count": 37
        }
      ]
    },
    {
      "cell_type": "code",
      "source": [
        "spark.stop()"
      ],
      "metadata": {
        "id": "0lXZWjS8EJDN"
      },
      "execution_count": 38,
      "outputs": []
    }
  ]
}