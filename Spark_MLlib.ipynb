{
  "nbformat": 4,
  "nbformat_minor": 0,
  "metadata": {
    "colab": {
      "provenance": [],
      "authorship_tag": "ABX9TyOkCrNrIbsuuAZ6h2w/uuSU",
      "include_colab_link": true
    },
    "kernelspec": {
      "name": "python3",
      "display_name": "Python 3"
    },
    "language_info": {
      "name": "python"
    }
  },
  "cells": [
    {
      "cell_type": "markdown",
      "metadata": {
        "id": "view-in-github",
        "colab_type": "text"
      },
      "source": [
        "<a href=\"https://colab.research.google.com/github/Jaejuna/SparkML/blob/main/Spark_MLlib.ipynb\" target=\"_parent\"><img src=\"https://colab.research.google.com/assets/colab-badge.svg\" alt=\"Open In Colab\"/></a>"
      ]
    },
    {
      "cell_type": "code",
      "execution_count": null,
      "metadata": {
        "id": "xFITOcqqVxAn"
      },
      "outputs": [],
      "source": [
        "!pip install pyspark"
      ]
    },
    {
      "cell_type": "code",
      "source": [
        "# 데이터 다운\n",
        "!gdown https://drive.google.com/uc?id=1qYh2aGOBZfUF9547M0pxAe17JhR7yLxm\n",
        "!unzip sf-airbnb-clean.parquet.zip"
      ],
      "metadata": {
        "id": "3IRGvqS_V1Jv"
      },
      "execution_count": null,
      "outputs": []
    },
    {
      "cell_type": "code",
      "source": [
        "# 데이터 수집 및 탐색색\n",
        "import pyspark\n",
        "from pyspark.sql import SparkSession\n",
        "\n",
        "#Create SparkSession\n",
        "spark = SparkSession.builder.master(\"local[1]\").appName(\"SparkByExamples.com\").getOrCreate()\n",
        "\n",
        "filePath = \"./sf-airbnb-clean.parquet\"\n",
        "airbnbDF = spark.read.parquet(filePath)\n",
        "airbnbDF.select(\"neighbourhood_cleansed\", \"room_type\", \"bedrooms\", \"bathrooms\", \"number_of_reviews\", \"price\").show(5)"
      ],
      "metadata": {
        "id": "GAmrTZ_4W4XI"
      },
      "execution_count": null,
      "outputs": []
    },
    {
      "cell_type": "code",
      "source": [
        "# 훈련 데이터셋과 테스트 데이터셋 분리리\n",
        "trainDF, testDF = airbnbDF.randomSplit([.8, .2], seed=32)\n",
        "print(f\"\"\"There are {trainDF.count()} rows in the training set, and {testDF.count()} in the test set\"\"\")"
      ],
      "metadata": {
        "id": "Z-2Nhdfwdtx9"
      },
      "execution_count": null,
      "outputs": []
    },
    {
      "cell_type": "code",
      "source": [
        "# 변환기 transformer 사용하여 학습할 기능들 준비비\n",
        "from pyspark.ml.feature import VectorAssembler\n",
        "\n",
        "vecAssembler = VectorAssembler(inputCols=[\"bedrooms\"], outputCol=\"features\")\n",
        "vecTrainDF = vecAssembler.transform(trainDF)\n",
        "vecTrainDF.select(\"bedrooms\", \"features\", \"price\").show(10)"
      ],
      "metadata": {
        "id": "zgfNNI4hdODf"
      },
      "execution_count": null,
      "outputs": []
    },
    {
      "cell_type": "code",
      "source": [
        "# Linear Regression 모델 생성 및 학습습\n",
        "from pyspark.ml.regression import LinearRegression\n",
        "\n",
        "lr = LinearRegression(featuresCol='features', labelCol='price')\n",
        "lrModel = lr.fit(vecTrainDF)"
      ],
      "metadata": {
        "id": "lAP_r9d3eh0W"
      },
      "execution_count": 47,
      "outputs": []
    },
    {
      "cell_type": "code",
      "source": [
        "# 예측 가격값 알아보기기\n",
        "m = round(lrModel.coefficients[0], 2)\n",
        "b = round(lrModel.intercept, 2)\n",
        "print(f\"\"\"The formula for the linear regression line is price = {m}*bedrooms + {b}\"\"\")"
      ],
      "metadata": {
        "id": "_Nyi9iILip9Z"
      },
      "execution_count": null,
      "outputs": []
    },
    {
      "cell_type": "code",
      "source": [
        "# pipeline으로 간편화 해보기 (transformer)\n",
        "from pyspark.ml import Pipeline\n",
        "pipeline = Pipeline(stages=[vecAssembler, lr])\n",
        "pipelineModel = pipeline.fit(trainDF)"
      ],
      "metadata": {
        "id": "TMmpvyo0i-t_"
      },
      "execution_count": 49,
      "outputs": []
    },
    {
      "cell_type": "code",
      "source": [
        "# pipeline으로 간편화 해보기 (estimator)\n",
        "predDF = pipelineModel.transform(testDF)\n",
        "predDF.select(\"bedrooms\", \"features\", \"price\", \"prediction\").show(10)"
      ],
      "metadata": {
        "id": "C3RKtZ5Zj_Ix"
      },
      "execution_count": null,
      "outputs": []
    },
    {
      "cell_type": "code",
      "source": [
        "# 범주형 데이터 다루기 : one-hot encoding\n",
        "from pyspark.ml.feature import OneHotEncoder, StringIndexer\n",
        "\n",
        "# 변환할 변수 지정 및 변환할 변수 명 생성\n",
        "categoricalCols = [field for (field, dataType) in trainDF.dtypes if dataType == \"string\"]\n",
        "indexOutputCols = [x + \"Index\" for x in categoricalCols]\n",
        "oheOutputCols = [x + \"OHE\" for x in categoricalCols]\n",
        "\n",
        "stringIndexer = StringIndexer(inputCols=categoricalCols, outputCols=indexOutputCols, handleInvalid = \"skip\")\n",
        "oheEncoder = OneHotEncoder(inputCols=indexOutputCols, outputCols=oheOutputCols)\n",
        "\n",
        "# 연속형 변수 지정\n",
        "numericCols = [field for (field, dataType) in trainDF.dtypes if  ((dataType == \"double\") & (field != \"price\"))]\n",
        "assemblerInputs = oheOutputCols + numericCols\n",
        "vecAssembler = VectorAssembler(inputCols=assemblerInputs, outputCol=\"features\")"
      ],
      "metadata": {
        "id": "6jTN_LIlZYnD"
      },
      "execution_count": 51,
      "outputs": []
    },
    {
      "cell_type": "code",
      "source": [
        "# RFormula 사용하기\n",
        "from pyspark.ml.feature import RFormula\n",
        "\n",
        "rFormula = RFormula(formula = \"price ~ .\", \n",
        "                    featuresCol=\"features\",\n",
        "                    labelCol=\"price\",\n",
        "                    handleInvalid=\"skip\")"
      ],
      "metadata": {
        "id": "a4QoDMILZpXp"
      },
      "execution_count": 52,
      "outputs": []
    },
    {
      "cell_type": "code",
      "source": [
        "# 평가지표 RMSE\n",
        "from pyspark.ml.evaluation import RegressionEvaluator\n",
        "regressionEvaluator = RegressionEvaluator(\n",
        "    predictionCol=\"prediction\",\n",
        "    labelCol=\"price\",\n",
        "    metricName='rmse'\n",
        ")\n",
        "rmse = regressionEvaluator.evaluate(predDF)\n",
        "print(f\"RMSE is {rmse:.1f}\")"
      ],
      "metadata": {
        "id": "_V3VdIQtkMKa"
      },
      "execution_count": null,
      "outputs": []
    },
    {
      "cell_type": "code",
      "source": [
        "# 평가지표 R^2 \n",
        "r2 = regressionEvaluator.setMetricName(\"r2\").evaluate(predDF)\n",
        "print(f\"R2 is {r2}\")"
      ],
      "metadata": {
        "id": "O818u13ZMpTx"
      },
      "execution_count": null,
      "outputs": []
    },
    {
      "cell_type": "code",
      "source": [
        "from pyspark.ml.regression import DecisionTreeRegressor\n",
        "\n",
        "# 모델 객체 생성\n",
        "dt = DecisionTreeRegressor(labelCol=\"price\")\n",
        "\n",
        "# 숫자 열만 필터링\n",
        "numericCols = [field for (field, dataType) in trainDF.dtypes\n",
        "               if ((dataType == \"double\") & (field != \"price\"))]\n",
        "\n",
        "# 위에서 정의한 StingIndexer의 출력과 숫자 열 결합\n",
        "assemblerInputs = indexOutputCols + numericCols\n",
        "vecAssembler = VectorAssembler(inputCols = assemblerInputs, outputCol=\"features\")\n",
        "\n",
        "# 단계를 파이프라인으로 결합\n",
        "stages = [stringIndexer, vecAssembler, dt]\n",
        "pipeline = Pipeline(stages = stages)\n",
        "\n",
        "# 및 훈련 -> error\n",
        "dt.setMaxBins(40)\n",
        "pipelineModel = pipeline.fit(trainDF)"
      ],
      "metadata": {
        "id": "df3PSUTBsPbQ"
      },
      "execution_count": 55,
      "outputs": []
    },
    {
      "cell_type": "code",
      "source": [
        "# 규칙 프린트\n",
        "dtModel = pipelineModel.stages[-1]\n",
        "print(dtModel.toDebugString)"
      ],
      "metadata": {
        "id": "8yy7w7ABZ6s9"
      },
      "execution_count": null,
      "outputs": []
    },
    {
      "cell_type": "code",
      "source": [
        "# 변수 중요도 출력\n",
        "import pandas as pd\n",
        "\n",
        "featureImp = pd.DataFrame(\n",
        "    list(zip(vecAssembler.getInputCols(), dtModel.featureImportances)),\n",
        "    columns = [\"feature\", \"importance\"]\n",
        ")\n",
        "featureImp.sort_values(by = \"importance\", ascending=False)"
      ],
      "metadata": {
        "id": "XU4GQrb0Z6qp"
      },
      "execution_count": null,
      "outputs": []
    },
    {
      "cell_type": "code",
      "source": [
        "# Random Forest\n",
        "from pyspark.ml.regression import RandomForestRegressor\n",
        "rf = RandomForestRegressor(labelCol=\"price\", maxBins=40, seed = 42)\n",
        "\n",
        "# 다시 파이프라인 구축해서 중요한 피처 출력\n",
        "pipeline = Pipeline(stages = [stringIndexer, vecAssembler, rf])\n",
        "pipelineModel = pipeline.fit(trainDF)\n",
        "\n",
        "rfModel = pipelineModel.stages[-1]\n",
        "featureImp = pd.DataFrame(\n",
        "    list(zip(vecAssembler.getInputCols(), rfModel.featureImportances)),\n",
        "    columns = [\"feature\", \"importance\"]\n",
        ")\n",
        "featureImp.sort_values(by = \"importance\", ascending=False)"
      ],
      "metadata": {
        "id": "LE4X8K3Au2XK"
      },
      "execution_count": null,
      "outputs": []
    },
    {
      "cell_type": "code",
      "source": [
        "# 평가할 추정기 정의\n",
        "pipeline = Pipeline(stages = [stringIndexer, vecAssembler, rf])"
      ],
      "metadata": {
        "id": "h6ePJsojcUAn"
      },
      "execution_count": 59,
      "outputs": []
    },
    {
      "cell_type": "code",
      "source": [
        "# ParamGridBuilder 사용, 변경하려는 하이퍼파라미터 값을 지정\n",
        "from pyspark.ml.tuning import ParamGridBuilder\n",
        "paramGrid = (ParamGridBuilder().addGrid(rf.maxDepth, [2, 4, 6]).addGrid(rf.numTrees, [10, 100]).build())"
      ],
      "metadata": {
        "id": "DogBsD7pu-Iu"
      },
      "execution_count": 60,
      "outputs": []
    },
    {
      "cell_type": "code",
      "source": [
        "# 평가기를 정의, 다양한 모델을 비교하는 데 사용할 metric 지정\n",
        "evaluator = RegressionEvaluator(labelCol=\"price\", predictionCol=\"prediction\", metricName=\"rmse\")"
      ],
      "metadata": {
        "id": "qxOlmbUBvUM9"
      },
      "execution_count": 61,
      "outputs": []
    },
    {
      "cell_type": "code",
      "source": [
        "# CrossValidator를 사용해 다양한 모델 각각을 평가하는 교차 검증 수행\n",
        "from pyspark.ml.tuning import CrossValidator\n",
        "\n",
        "cv = CrossValidator(estimator=pipeline, evaluator=evaluator, estimatorParamMaps=paramGrid, numFolds=3, seed=32)\n",
        "cvModel = cv.fit(trainDF)"
      ],
      "metadata": {
        "id": "IsCMnKlHveNN"
      },
      "execution_count": 62,
      "outputs": []
    },
    {
      "cell_type": "code",
      "source": [
        "list(zip(cvModel.getEstimatorParamMaps(), cvModel.avgMetrics))"
      ],
      "metadata": {
        "id": "5S9mX-jvwEEM"
      },
      "execution_count": null,
      "outputs": []
    },
    {
      "cell_type": "code",
      "source": [
        "spark.stop()"
      ],
      "metadata": {
        "id": "0lXZWjS8EJDN"
      },
      "execution_count": 64,
      "outputs": []
    }
  ]
}